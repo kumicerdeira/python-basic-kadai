{
  "cells": [
    {
      "cell_type": "code",
      "execution_count": 83,
      "metadata": {
        "colab": {
          "base_uri": "https://localhost:8080/"
        },
        "id": "bVz6ebRR3af5",
        "outputId": "270ed6cb-d51d-4490-e4f9-5c77e87bfc37"
      },
      "outputs": [
        {
          "name": "stdout",
          "output_type": "stream",
          "text": [
            "3\n",
            "Fizz\n"
          ]
        }
      ],
      "source": [
        "#ランダムな整数を利用するために、randomモジュールをインポート\n",
        "import random\n",
        "\n",
        "num == random.randint(1, 100)\n",
        "\n",
        "# 変数varを出力\n",
        "print(num)\n",
        "\n",
        "\n",
        "# 全ての条件が成り立つ場合にのみ処理を行う（変数verが３の倍数と５の倍数）\n",
        "if num % 15 == 0:\n",
        "    print(\"FizzBuzz\")\n",
        "\n",
        "# 一つでも条件が成り立てば処理を行う（変数verが３または５の倍数）\n",
        "if num % 3 == 0:\n",
        "   print(\"Fizz\")\n",
        "elif num % 5 == 0:\n",
        "    print(\"Buzz\")\n",
        "else :\n",
        "     print(var)"
      ]
    },
    {
      "cell_type": "code",
      "execution_count": null,
      "metadata": {
        "id": "4-yNP0q1aTJz"
      },
      "outputs": [],
      "source": [
        "="
      ]
    }
  ],
  "metadata": {
    "colab": {
      "provenance": []
    },
    "kernelspec": {
      "display_name": "Python 3",
      "name": "python3"
    },
    "language_info": {
      "name": "python"
    }
  },
  "nbformat": 4,
  "nbformat_minor": 0
}
