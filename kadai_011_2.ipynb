{
  "cells": [
    {
      "cell_type": "markdown",
      "metadata": {
        "id": "FWxOKC1m2GOK"
      },
      "source": []
    },
    {
      "cell_type": "code",
      "execution_count": 3,
      "metadata": {
        "colab": {
          "base_uri": "https://localhost:8080/"
        },
        "id": "AJS7hfhyvdSW",
        "outputId": "1cdbd9a5-d993-42c1-aabd-7709f9a967a2"
      },
      "outputs": [
        {
          "name": "stdout",
          "output_type": "stream",
          "text": [
            "水\n",
            "金\n",
            "地\n",
            "火\n",
            "木\n",
            "土\n",
            "天\n",
            "海\n",
            "冥\n",
            "水\n",
            "金\n",
            "地\n",
            "火\n",
            "木\n",
            "土\n",
            "天\n",
            "海\n",
            "冥\n"
          ]
        }
      ],
      "source": [
        "#for文を使う リストを作成\n",
        "list = [\"水\", \"金\", \"地\", \"火\", \"木\", \"土\", \"天\", \"海\", \"冥\"]\n",
        "\n",
        "# 値を出力\n",
        "for planet in list:\n",
        "     print(planet)\n",
        "\n",
        "\n",
        "# while文を使って　リストを作成\n",
        "list = [\n",
        "    \"水\",\n",
        "    \"金\",\n",
        "    \"地\",\n",
        "    \"火\",\n",
        "    \"木\",\n",
        "    \"土\",\n",
        "    \"天\",\n",
        "    \"海\",\n",
        "    \"冥\"\n",
        "    ]\n",
        "\n",
        "index = 0\n",
        "\n",
        "while index < 9:\n",
        "  print(list[index])\n",
        "  index = index + 1\n",
        "\n",
        "\n"
      ]
    }
  ],
  "metadata": {
    "colab": {
      "provenance": []
    },
    "kernelspec": {
      "display_name": "Python 3",
      "name": "python3"
    },
    "language_info": {
      "name": "python"
    }
  },
  "nbformat": 4,
  "nbformat_minor": 0
}
