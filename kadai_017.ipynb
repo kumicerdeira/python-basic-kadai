{
  "cells": [
    {
      "cell_type": "code",
      "execution_count": 8,
      "metadata": {
        "colab": {
          "base_uri": "https://localhost:8080/"
        },
        "id": "EbPrLMd7iJML",
        "outputId": "4a5de8c1-3f87-4ff0-bb64-ee73d0bfc2c8"
      },
      "outputs": [
        {
          "name": "stdout",
          "output_type": "stream",
          "text": [
            "侍三郎は未成年です。\n",
            "侍小太郎は大人です。\n",
            "虎五郎は大人です。\n"
          ]
        }
      ],
      "source": [
        "# Humanクラスを作成\n",
        "class Human:\n",
        "# 属性を入力する\n",
        "    def __init__(self, name, age):\n",
        "       self.name = name\n",
        "       self.age = age\n",
        "\n",
        "# check_adultメソッドを作成。20歳以上か否かの判定\n",
        "    def check_adult(self):\n",
        "       if self.age >= 20:\n",
        "          print(f\"{self.name}は大人です。\")\n",
        "       else:\n",
        "          print(f\"{self.name}は未成年です。\")\n",
        "\n",
        "# インスタンスを登録するリストを作成\n",
        "human1 = Human(\"侍三郎\", 3)\n",
        "human2 = Human(\"侍小太郎\", 25)\n",
        "human3 = Human(\"虎五郎\", 48)\n",
        "humans = [human1, human2, human3]\n",
        "\n",
        "# check_adultメソッドを起動する\n",
        "human1.check_adult()\n",
        "human2.check_adult()\n",
        "human3.check_adult()\n"
      ]
    }
  ],
  "metadata": {
    "colab": {
      "provenance": []
    },
    "kernelspec": {
      "display_name": "Python 3",
      "name": "python3"
    },
    "language_info": {
      "name": "python"
    }
  },
  "nbformat": 4,
  "nbformat_minor": 0
}
