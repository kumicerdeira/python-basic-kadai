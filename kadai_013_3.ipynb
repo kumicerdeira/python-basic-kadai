{
  "cells": [
    {
      "cell_type": "code",
      "execution_count": 4,
      "metadata": {
        "colab": {
          "base_uri": "https://localhost:8080/"
        },
        "id": "KEVi_GnqM4ug",
        "outputId": "a55d5e1f-f091-44fb-eca3-a23e5fdb7cdd"
      },
      "outputs": [
        {
          "name": "stdout",
          "output_type": "stream",
          "text": [
            "1320.0円\n"
          ]
        }
      ],
      "source": [
        "# 関数calculta_totalを定義し、引数priceとtaxを受け取って、resultに代入\n",
        "def calculate_total(price, tax):\n",
        "    tax = price * 0.10\n",
        "    # 与えられた引数priceに消費税を加算して、変数totalに代入する\n",
        "    result = price + tax\n",
        "    return result\n",
        "\n",
        "total_price = calculate_total(1200, 10)\n",
        "    # 変数total_priceの値を出力する\n",
        "print(f\"{total_price}円\")\n",
        "\n"
      ]
    }
  ],
  "metadata": {
    "colab": {
      "provenance": []
    },
    "kernelspec": {
      "display_name": "Python 3",
      "name": "python3"
    },
    "language_info": {
      "name": "python"
    }
  },
  "nbformat": 4,
  "nbformat_minor": 0
}
