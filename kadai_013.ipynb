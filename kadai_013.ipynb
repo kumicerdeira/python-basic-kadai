{
  "cells": [
    {
      "cell_type": "code",
      "execution_count": 1,
      "metadata": {
        "colab": {
          "base_uri": "https://localhost:8080/"
        },
        "id": "KEVi_GnqM4ug",
        "outputId": "537b773d-be7b-4990-fe49-76ac9176fc02"
      },
      "outputs": [
        {
          "name": "stdout",
          "output_type": "stream",
          "text": [
            "1320.0円\n"
          ]
        }
      ],
      "source": [
        "# 与えられた引数$priceに消費税を加算して、その値を出力する関数を定義する\n",
        "\n",
        "def calculate_total(price):\n",
        "    # 与えられた引数$priceに消費税を加算して、変数totalに代入する\n",
        "    total = price + (price * 0.10)\n",
        "\n",
        "    # 変数totalの値を出力する\n",
        "    print(f\"{total}円\")\n",
        "\n",
        "# 関数を呼び出し、引数として購入金額を渡す\n",
        "calculate_total(1200)\n"
      ]
    }
  ],
  "metadata": {
    "colab": {
      "provenance": []
    },
    "kernelspec": {
      "display_name": "Python 3",
      "name": "python3"
    },
    "language_info": {
      "name": "python"
    }
  },
  "nbformat": 4,
  "nbformat_minor": 0
}
