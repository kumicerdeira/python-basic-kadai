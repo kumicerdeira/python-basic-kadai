{
  "cells": [
    {
      "cell_type": "code",
      "execution_count": 17,
      "metadata": {
        "colab": {
          "base_uri": "https://localhost:8080/"
        },
        "id": "yybglohzyOSU",
        "outputId": "22886253-2325-457d-8aa6-02e13a32a790"
      },
      "outputs": [
        {
          "name": "stdout",
          "output_type": "stream",
          "text": [
            "合計金額は330.0円です\n",
            "詳細、100円と200円、プラス税金10%です。\n"
          ]
        }
      ],
      "source": [
        "# グローバル変数を定義する\n",
        "price1 = 100\n",
        "price2 = 200\n",
        "\n",
        "def total():\n",
        "  # ローカル変数を定義する\n",
        "     tax = 1.1\n",
        "     total_price = (price1 + price2) * tax\n",
        "\n",
        "     # ローカル変数の範囲内でローカル変数を使う\n",
        "     print(f\"合計金額は{total_price}円です\")\n",
        "\n",
        "total()\n",
        "\n",
        "# グローバルスコープの範囲内でグローバル変数を使う\n",
        "print(f\"詳細、{price1}円と{price2}円、プラス税金10%です。\")\n",
        "\n"
      ]
    }
  ],
  "metadata": {
    "colab": {
      "provenance": []
    },
    "kernelspec": {
      "display_name": "Python 3",
      "name": "python3"
    },
    "language_info": {
      "name": "python"
    }
  },
  "nbformat": 4,
  "nbformat_minor": 0
}
