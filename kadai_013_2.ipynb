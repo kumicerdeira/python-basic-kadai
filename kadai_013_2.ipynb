{
  "cells": [
    {
      "cell_type": "code",
      "execution_count": 12,
      "metadata": {
        "colab": {
          "base_uri": "https://localhost:8080/"
        },
        "id": "KEVi_GnqM4ug",
        "outputId": "348fc06c-775d-42ca-f310-5f150cce2cc7"
      },
      "outputs": [
        {
          "name": "stdout",
          "output_type": "stream",
          "text": [
            "1320.0円\n"
          ]
        }
      ],
      "source": [
        "# 関数calculta_totalを定義し、引数priceとtaxを受け取って、resultに代入\n",
        "def calculate_total(price, tax):\n",
        "\n",
        "    # 与えられた引数$priceに消費税を加算して、変数totalに代入する\n",
        "    result = price * 1.10\n",
        "    return result\n",
        "\n",
        "total_price = calculate_total(1200, 1.10)\n",
        "    # 変数total_priceの値を出力する\n",
        "print(f\"{total_price}円\")\n",
        "\n"
      ]
    }
  ],
  "metadata": {
    "colab": {
      "provenance": []
    },
    "kernelspec": {
      "display_name": "Python 3",
      "name": "python3"
    },
    "language_info": {
      "name": "python"
    }
  },
  "nbformat": 4,
  "nbformat_minor": 0
}
