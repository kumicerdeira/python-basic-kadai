{
  "cells": [
    {
      "cell_type": "code",
      "execution_count": 4,
      "metadata": {
        "colab": {
          "base_uri": "https://localhost:8080/"
        },
        "id": "AdtQK8-ROBQq",
        "outputId": "e3972271-7b7f-410e-8e61-231083e775c8"
      },
      "outputs": [
        {
          "name": "stdout",
          "output_type": "stream",
          "text": [
            "名前 侍太郎\n",
            "年齢 36\n"
          ]
        }
      ],
      "source": [
        "class Human:\n",
        "  # コンストラクタを定義する\n",
        "  def __init__(self, name, age):\n",
        "      self.name = name\n",
        "      self.age = age\n",
        "  # メソッドを定義する\n",
        "  def set_name(self, name):\n",
        "      self.name = name\n",
        "  def set_age(self, age):\n",
        "      self.age = age\n",
        "\n",
        "  # printinfoメソッドを定義する\n",
        "  def printindo(self):\n",
        "      print(\"名前\", self.name)\n",
        "      print(\"年齢\", self.age)\n",
        "\n",
        "# インスタンス化する\n",
        "human = Human(\"侍太郎\", 36)\n",
        "\n",
        "# printinfoメソッドにアクセスし、出力する\n",
        "human.printindo()\n",
        "\n",
        "\n"
      ]
    }
  ],
  "metadata": {
    "colab": {
      "provenance": []
    },
    "kernelspec": {
      "display_name": "Python 3",
      "name": "python3"
    },
    "language_info": {
      "name": "python"
    }
  },
  "nbformat": 4,
  "nbformat_minor": 0
}
